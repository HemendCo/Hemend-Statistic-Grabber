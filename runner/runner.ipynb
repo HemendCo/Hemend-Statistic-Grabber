{
 "cells": [
  {
   "cell_type": "code",
   "execution_count": 1,
   "metadata": {},
   "outputs": [],
   "source": [
    "import serial\n",
    "import pandas as pd\n",
    "from configparser import ConfigParser as cfgParser\n",
    "from persiantools.jdatetime import JalaliDateTime as jd\n",
    "from datetime import datetime\n",
    "import time\n",
    "import json\n",
    "import requests\n",
    "def delay(seconds: float):\n",
    "    time.sleep(seconds)\n",
    "\n",
    "\n",
    "configDir='./config/'\n",
    "settingsPath=configDir+'settings.ini'"
   ]
  },
  {
   "cell_type": "code",
   "execution_count": 2,
   "metadata": {},
   "outputs": [],
   "source": [
    "#loading information\n",
    "settings=cfgParser()\n",
    "settings.read(settingsPath)\n",
    "\n",
    "dateTimeTemp = jd.now().isoformat()\n",
    "\n",
    "# load output file path and user mapper\n",
    "PLAIN_OUTPUT_CSV_FILE = settings.get(\n",
    "    'Path', 'PLAIN_OUTPUT_CSV_FILE').replace('%dt', dateTimeTemp)\n",
    "BACKUP_OUTPUT_CSV_FILE = settings.get(\n",
    "    'Path', 'BACKUP_OUTPUT_CSV_FILE').replace('%dt', dateTimeTemp)\n",
    "FINAL_OUTPUT_CSV_FILE = settings.get(\n",
    "    'Path', 'FINAL_OUTPUT_CSV_FILE').replace('%dt', dateTimeTemp)\n",
    "# FINAL_OUTPUT_XLSX_FILE = settings.get(\n",
    "#     'Path', 'FINAL_OUTPUT_XLSX_FILE').replace('%dt', dateTimeTemp)\n",
    "USERS_DICTIONARY_CSV_FILE = settings.get('Path', 'USERS_DICTIONARY_CSV_FILE')\n",
    "usersMap = pd.read_csv(USERS_DICTIONARY_CSV_FILE)\n",
    "\n",
    "# board info\n",
    "SERIAL_PORT_NAME = settings.get('SerialConfig', 'SERIAL_PORT_NAME')\n",
    "SERIAL_BAUD_RATE = settings.getint('SerialConfig', 'SERIAL_BAUD_RATE')\n",
    "\n",
    "# commands\n",
    "READ_FILE_COMMAND = settings.get('Commands', 'READ_FILE_COMMAND')\n",
    "DELETE_FILE_COMMAND = settings.get('Commands', 'DELETE_FILE_COMMAND')\n",
    "SET_TIME_COMMAND = settings.get('Commands', 'SET_TIME_COMMAND')\n",
    "\n",
    "# output formatter settings\n",
    "TEXT_FORMATTER_PREFIX = settings.get('Formatting', 'PREFIX_TEXT')\n",
    "TEXT_FORMATTER_SUFFIX = settings.get('Formatting', 'SUFFIX_TEXT')\n",
    "TEXT_FORMATTER_BOOT = settings.get('Formatting', 'BOOT_TEXT')\n",
    "TEXT_FORMATTER_ERROR = settings.get('Formatting', 'ERROR_TEXT')\n",
    "BASE_ENCODING = 'utf-8'\n",
    "\n",
    "\n",
    "usersMap=pd.read_csv(USERS_DICTIONARY_CSV_FILE)"
   ]
  },
  {
   "cell_type": "code",
   "execution_count": 3,
   "metadata": {},
   "outputs": [
    {
     "name": "stdout",
     "output_type": "stream",
     "text": [
      "connecting to board\n",
      "Boot Completed\n"
     ]
    }
   ],
   "source": [
    "\n",
    "print('connecting to board')\n",
    "serialClient = serial.Serial(SERIAL_PORT_NAME, SERIAL_BAUD_RATE)\n",
    "\n",
    "\n",
    "def sendCommand(command):\n",
    "    b = bytes(command, BASE_ENCODING)\n",
    "    serialClient.write(b)\n",
    "\n",
    "waitingForBoot = True\n",
    "while(waitingForBoot):\n",
    "    line = str(serialClient.readline().decode(BASE_ENCODING))\n",
    "    if line.rfind(TEXT_FORMATTER_BOOT) >= 0:\n",
    "        waitingForBoot = False\n",
    "print('Boot Completed')\n",
    "delay(1)"
   ]
  },
  {
   "cell_type": "code",
   "execution_count": 4,
   "metadata": {},
   "outputs": [
    {
     "name": "stdout",
     "output_type": "stream",
     "text": [
      "sync time\n"
     ]
    }
   ],
   "source": [
    "\n",
    "print('sync time')\n",
    "timeCommand = SET_TIME_COMMAND.replace('#year', str(datetime.now().year).rjust(4, '0')).replace('#month', str(datetime.now().month).rjust(2, '0')).replace('#day', str(datetime.now().day).rjust(2, '0')).replace('#hour', str(\n",
    "    datetime.now().hour).rjust(2, '0')).replace('#minute', str(datetime.now().minute).rjust(2, '0')).replace('#seconds', str(datetime.now().second).rjust(2, '0')).replace('12OfWeek', str((datetime.now().weekday()+1) % 7+1))\n",
    "sendCommand(timeCommand)\n",
    "delay(1)"
   ]
  },
  {
   "cell_type": "code",
   "execution_count": 14,
   "metadata": {},
   "outputs": [
    {
     "name": "stdout",
     "output_type": "stream",
     "text": [
      "reading log file\n",
      "LOGFILE_BEGIN\n",
      "\n",
      "LOGFILE_ERROR\n",
      "\n"
     ]
    },
    {
     "ename": "Exception",
     "evalue": "File is not found or there is error in log file reader method if you know there should be a file please restart the board otherwise use a tag on board and try again",
     "output_type": "error",
     "traceback": [
      "\u001b[1;31m---------------------------------------------------------------------------\u001b[0m",
      "\u001b[1;31mException\u001b[0m                                 Traceback (most recent call last)",
      "\u001b[1;32m~\\AppData\\Local\\Temp/ipykernel_9988/1724737605.py\u001b[0m in \u001b[0;36m<module>\u001b[1;34m\u001b[0m\n\u001b[0;32m     10\u001b[0m         \u001b[0mfileReader\u001b[0m \u001b[1;33m=\u001b[0m \u001b[1;32mFalse\u001b[0m\u001b[1;33m\u001b[0m\u001b[1;33m\u001b[0m\u001b[0m\n\u001b[0;32m     11\u001b[0m     \u001b[1;32mif\u001b[0m \u001b[0mline\u001b[0m\u001b[1;33m.\u001b[0m\u001b[0mrfind\u001b[0m\u001b[1;33m(\u001b[0m\u001b[0mTEXT_FORMATTER_ERROR\u001b[0m\u001b[1;33m)\u001b[0m \u001b[1;33m>=\u001b[0m \u001b[1;36m0\u001b[0m\u001b[1;33m:\u001b[0m\u001b[1;33m\u001b[0m\u001b[1;33m\u001b[0m\u001b[0m\n\u001b[1;32m---> 12\u001b[1;33m         raise Exception(\n\u001b[0m\u001b[0;32m     13\u001b[0m             \"File is not found or there is error in log file reader method if you know there should be a file please restart the board otherwise use a tag on board and try again\")\n\u001b[0;32m     14\u001b[0m \u001b[0mlogData\u001b[0m \u001b[1;33m=\u001b[0m \u001b[0mlogData\u001b[0m\u001b[1;33m.\u001b[0m\u001b[0mreplace\u001b[0m\u001b[1;33m(\u001b[0m\u001b[0mTEXT_FORMATTER_BOOT\u001b[0m\u001b[1;33m,\u001b[0m \u001b[1;34m''\u001b[0m\u001b[1;33m)\u001b[0m\u001b[1;33m\u001b[0m\u001b[1;33m\u001b[0m\u001b[0m\n",
      "\u001b[1;31mException\u001b[0m: File is not found or there is error in log file reader method if you know there should be a file please restart the board otherwise use a tag on board and try again"
     ]
    }
   ],
   "source": [
    "\n",
    "print('reading log file')\n",
    "sendCommand(READ_FILE_COMMAND)\n",
    "fileReader = True\n",
    "logData = ''\n",
    "while(fileReader):\n",
    "    line = str(serialClient.readline().decode(BASE_ENCODING))\n",
    "    logData += line\n",
    "    print(line)\n",
    "    if line.rfind(TEXT_FORMATTER_SUFFIX) >= 0:\n",
    "        fileReader = False\n",
    "    if line.rfind(TEXT_FORMATTER_ERROR) >= 0:\n",
    "        raise Exception(\n",
    "            \"File is not found or there is error in log file reader method if you know there should be a file please restart the board otherwise use a tag on board and try again\")\n",
    "logData = logData.replace(TEXT_FORMATTER_BOOT, '')\n",
    "logData = logData.replace(TEXT_FORMATTER_PREFIX, '')\n",
    "logData = logData.replace(TEXT_FORMATTER_SUFFIX, '')\n",
    "logData.replace('\\r\\n', '\\n')\n",
    "logData.replace('\\r', '')\n",
    "delay(1)\n"
   ]
  },
  {
   "cell_type": "code",
   "execution_count": 6,
   "metadata": {},
   "outputs": [
    {
     "name": "stdout",
     "output_type": "stream",
     "text": [
      "sending command : c:\\Users\\User\\anaconda3\\lib\\site-packages\\ipykernel_launcher.py\n",
      "sending command : --ip=127.0.0.1\n",
      "sending command : --stdin=9003\n"
     ]
    },
    {
     "ename": "KeyboardInterrupt",
     "evalue": "",
     "output_type": "error",
     "traceback": [
      "\u001b[1;31m---------------------------------------------------------------------------\u001b[0m",
      "\u001b[1;31mKeyboardInterrupt\u001b[0m                         Traceback (most recent call last)",
      "\u001b[1;32m~\\AppData\\Local\\Temp/ipykernel_9988/3439692006.py\u001b[0m in \u001b[0;36m<module>\u001b[1;34m\u001b[0m\n\u001b[0;32m      4\u001b[0m     \u001b[0mprint\u001b[0m\u001b[1;33m(\u001b[0m\u001b[1;34m'sending command : '\u001b[0m\u001b[1;33m+\u001b[0m\u001b[0mi\u001b[0m\u001b[1;33m)\u001b[0m\u001b[1;33m\u001b[0m\u001b[1;33m\u001b[0m\u001b[0m\n\u001b[0;32m      5\u001b[0m     \u001b[0msendCommand\u001b[0m\u001b[1;33m(\u001b[0m\u001b[0mi\u001b[0m\u001b[1;33m)\u001b[0m\u001b[1;33m\u001b[0m\u001b[1;33m\u001b[0m\u001b[0m\n\u001b[1;32m----> 6\u001b[1;33m     \u001b[0mdelay\u001b[0m\u001b[1;33m(\u001b[0m\u001b[1;36m1\u001b[0m\u001b[1;33m)\u001b[0m\u001b[1;33m\u001b[0m\u001b[1;33m\u001b[0m\u001b[0m\n\u001b[0m",
      "\u001b[1;32m~\\AppData\\Local\\Temp/ipykernel_9988/2654593212.py\u001b[0m in \u001b[0;36mdelay\u001b[1;34m(seconds)\u001b[0m\n\u001b[0;32m      8\u001b[0m \u001b[1;32mimport\u001b[0m \u001b[0mrequests\u001b[0m\u001b[1;33m\u001b[0m\u001b[1;33m\u001b[0m\u001b[0m\n\u001b[0;32m      9\u001b[0m \u001b[1;32mdef\u001b[0m \u001b[0mdelay\u001b[0m\u001b[1;33m(\u001b[0m\u001b[0mseconds\u001b[0m\u001b[1;33m:\u001b[0m \u001b[0mfloat\u001b[0m\u001b[1;33m)\u001b[0m\u001b[1;33m:\u001b[0m\u001b[1;33m\u001b[0m\u001b[1;33m\u001b[0m\u001b[0m\n\u001b[1;32m---> 10\u001b[1;33m     \u001b[0mtime\u001b[0m\u001b[1;33m.\u001b[0m\u001b[0msleep\u001b[0m\u001b[1;33m(\u001b[0m\u001b[0mseconds\u001b[0m\u001b[1;33m)\u001b[0m\u001b[1;33m\u001b[0m\u001b[1;33m\u001b[0m\u001b[0m\n\u001b[0m\u001b[0;32m     11\u001b[0m \u001b[1;33m\u001b[0m\u001b[0m\n\u001b[0;32m     12\u001b[0m \u001b[1;33m\u001b[0m\u001b[0m\n",
      "\u001b[1;31mKeyboardInterrupt\u001b[0m: "
     ]
    }
   ],
   "source": [
    "import sys\n",
    "for i in sys.argv:\n",
    "    print('sending command : '+i)\n",
    "    sendCommand(i)\n",
    "    delay(1)"
   ]
  },
  {
   "cell_type": "code",
   "execution_count": 7,
   "metadata": {},
   "outputs": [
    {
     "name": "stdout",
     "output_type": "stream",
     "text": [
      "writing to backup\n"
     ]
    }
   ],
   "source": [
    "print('writing to backup')\n",
    "f = open(BACKUP_OUTPUT_CSV_FILE, \"a\")\n",
    "f.write(logData)\n",
    "f.close()"
   ]
  },
  {
   "cell_type": "code",
   "execution_count": 8,
   "metadata": {},
   "outputs": [],
   "source": [
    "def formatDateTime(input):\n",
    "    date = datetime.fromisoformat(input)\n",
    "    return (jd.to_jalali(date).isoformat().replace('T', ' '))"
   ]
  },
  {
   "cell_type": "code",
   "execution_count": 9,
   "metadata": {},
   "outputs": [
    {
     "name": "stdout",
     "output_type": "stream",
     "text": [
      "final formatting\n"
     ]
    }
   ],
   "source": [
    "\n",
    "print('final formatting')\n",
    "\n",
    "for index, row in usersMap.iterrows():\n",
    "    logData = logData.replace(row['BOARD_ID'], row['USER_ID'])\n",
    "logData = logData.replace('\\n\\n', '\\n')\n",
    "logData = logData.replace(',\\n', '\\n')\n",
    "\n",
    "f = open(FINAL_OUTPUT_CSV_FILE, \"w\")\n",
    "f.write('id,date_time'+logData)\n",
    "f.close()\n",
    "# data = pd.read_csv(PLAIN_OUTPUT_CSV_FILE)\n",
    "# data.to_csv(FINAL_OUTPUT_CSV_FILE)"
   ]
  },
  {
   "cell_type": "code",
   "execution_count": null,
   "metadata": {},
   "outputs": [],
   "source": [
    "# def formatDateTime(input):\n",
    "#     date=datetime.fromisoformat(input)\n",
    "#     return (jd.to_jalali(date).isoformat())"
   ]
  },
  {
   "cell_type": "code",
   "execution_count": null,
   "metadata": {},
   "outputs": [],
   "source": [
    "\n",
    "# reformat data\n",
    "\n",
    "# for index, row in data.iterrows():\n",
    "#     row['DATE_TIME'] = formatDateTime(row['DATE_TIME'])\n",
    "\n",
    "# data.to_excel(FINAL_OUTPUT_XLSX_FILE)\n"
   ]
  },
  {
   "cell_type": "code",
   "execution_count": 11,
   "metadata": {},
   "outputs": [],
   "source": [
    "dateTimeKey='date_time'\n",
    "idKey='id'\n",
    "presentKey='is_in'"
   ]
  },
  {
   "cell_type": "code",
   "execution_count": 12,
   "metadata": {},
   "outputs": [
    {
     "data": {
      "text/html": [
       "<div>\n",
       "<style scoped>\n",
       "    .dataframe tbody tr th:only-of-type {\n",
       "        vertical-align: middle;\n",
       "    }\n",
       "\n",
       "    .dataframe tbody tr th {\n",
       "        vertical-align: top;\n",
       "    }\n",
       "\n",
       "    .dataframe thead th {\n",
       "        text-align: right;\n",
       "    }\n",
       "</style>\n",
       "<table border=\"1\" class=\"dataframe\">\n",
       "  <thead>\n",
       "    <tr style=\"text-align: right;\">\n",
       "      <th></th>\n",
       "      <th>id</th>\n",
       "      <th>date_time</th>\n",
       "      <th>is_in</th>\n",
       "    </tr>\n",
       "  </thead>\n",
       "  <tbody>\n",
       "    <tr>\n",
       "      <th>0</th>\n",
       "      <td>Motalleb Fallahnezhad</td>\n",
       "      <td>2022-05-08 10:11</td>\n",
       "      <td>0</td>\n",
       "    </tr>\n",
       "    <tr>\n",
       "      <th>1</th>\n",
       "      <td>Motalleb Fallahnezhad</td>\n",
       "      <td>2022-05-08 10:12</td>\n",
       "      <td>0</td>\n",
       "    </tr>\n",
       "    <tr>\n",
       "      <th>2</th>\n",
       "      <td>Motalleb Fallahnezhad</td>\n",
       "      <td>2022-05-08 10:13</td>\n",
       "      <td>0</td>\n",
       "    </tr>\n",
       "    <tr>\n",
       "      <th>3</th>\n",
       "      <td>Motalleb Fallahnezhad</td>\n",
       "      <td>2022-05-08 10:13</td>\n",
       "      <td>0</td>\n",
       "    </tr>\n",
       "    <tr>\n",
       "      <th>4</th>\n",
       "      <td>Motalleb Fallahnezhad</td>\n",
       "      <td>2022-05-08 10:13</td>\n",
       "      <td>0</td>\n",
       "    </tr>\n",
       "  </tbody>\n",
       "</table>\n",
       "</div>"
      ],
      "text/plain": [
       "                      id         date_time  is_in\n",
       "0  Motalleb Fallahnezhad  2022-05-08 10:11      0\n",
       "1  Motalleb Fallahnezhad  2022-05-08 10:12      0\n",
       "2  Motalleb Fallahnezhad  2022-05-08 10:13      0\n",
       "3  Motalleb Fallahnezhad  2022-05-08 10:13      0\n",
       "4  Motalleb Fallahnezhad  2022-05-08 10:13      0"
      ]
     },
     "execution_count": 12,
     "metadata": {},
     "output_type": "execute_result"
    }
   ],
   "source": [
    "data=pd.read_csv('result.csv')\n",
    "data.insert(len(data.columns), presentKey, 0)\n",
    "data.head()"
   ]
  },
  {
   "cell_type": "code",
   "execution_count": 13,
   "metadata": {},
   "outputs": [],
   "source": [
    "def getKey(row):\n",
    "    date=row[dateTimeKey].split(' ')[0]\n",
    "    return date+row[idKey]\n",
    "userIn=[]\n",
    "for i in range(len(data)):\n",
    "    item=data.iloc[i]\n",
    "    \n",
    "    if(getKey(item) not in userIn):\n",
    "        data.iat[i, data.columns.get_loc(presentKey)] =1\n",
    "        userIn.append(getKey(item))\n",
    "    else:\n",
    "        data.iat[i, data.columns.get_loc(presentKey)] =0\n",
    "        userIn.remove(getKey(item))\n",
    "data.head(20)\n",
    "data.to_csv('test.csv')\n",
    "jsonData= {\n",
    "    'data':json.loads(data.to_json(orient ='records'))\n",
    "}\n",
    "# print(jsonData)"
   ]
  },
  {
   "cell_type": "code",
   "execution_count": null,
   "metadata": {},
   "outputs": [
    {
     "name": "stdout",
     "output_type": "stream",
     "text": [
      "{\"status_code\":\"DATE_INVALID\",\"status_message\":\"messages.The date is invalid\"}\n"
     ]
    }
   ],
   "source": [
    "url = 'https://staff.hemend.com/api/attendance'\n",
    "x = requests.post(url, json =jsonData)\n",
    "print(x.text)"
   ]
  }
 ],
 "metadata": {
  "kernelspec": {
   "display_name": "Python 3.9.7 ('base')",
   "language": "python",
   "name": "python3"
  },
  "language_info": {
   "codemirror_mode": {
    "name": "ipython",
    "version": 3
   },
   "file_extension": ".py",
   "mimetype": "text/x-python",
   "name": "python",
   "nbconvert_exporter": "python",
   "pygments_lexer": "ipython3",
   "version": "3.9.7"
  },
  "orig_nbformat": 4,
  "vscode": {
   "interpreter": {
    "hash": "67fc513d93b0e67b7c87cf6f35a712c1d5408d138f170656f5d367d2feb6a20b"
   }
  }
 },
 "nbformat": 4,
 "nbformat_minor": 2
}
